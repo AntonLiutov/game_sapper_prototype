{
 "cells": [
  {
   "cell_type": "code",
   "execution_count": 2,
   "id": "68234c68",
   "metadata": {},
   "outputs": [
    {
     "data": {
      "application/vnd.jupyter.widget-view+json": {
       "model_id": "05a73a84d6cd4fe9949e1175eb109860",
       "version_major": 2,
       "version_minor": 0
      },
      "text/plain": [
       "VBox(children=(HBox(children=(Dropdown(layout=Layout(margin='10px'), options=('Easy', 'Medium', 'Hard', 'Custo…"
      ]
     },
     "metadata": {},
     "output_type": "display_data"
    },
    {
     "data": {
      "application/vnd.jupyter.widget-view+json": {
       "model_id": "05a73a84d6cd4fe9949e1175eb109860",
       "version_major": 2,
       "version_minor": 0
      },
      "text/plain": [
       "VBox(children=(HBox(children=(Dropdown(layout=Layout(margin='10px'), options=('Easy', 'Medium', 'Hard', 'Custo…"
      ]
     },
     "metadata": {},
     "output_type": "display_data"
    },
    {
     "data": {
      "application/vnd.jupyter.widget-view+json": {
       "model_id": "418fbf1d1928406890d58126a714334d",
       "version_major": 2,
       "version_minor": 0
      },
      "text/plain": [
       "GridBox(children=(Button(layout=Layout(border='1px solid grey', height='auto', width='auto'), style=ButtonStyl…"
      ]
     },
     "metadata": {},
     "output_type": "display_data"
    }
   ],
   "source": [
    "import json\n",
    "from application.settings import Settings\n",
    "from application.simulate_data import Game\n",
    "from ui.widgets import Widgets\n",
    "from ui.widget_utils import Utils\n",
    "\n",
    "if __name__ == '__main__':\n",
    "    with open('config.json', 'r+') as f:\n",
    "        configs = json.load(f)\n",
    "\n",
    "    settings = Settings(configs=configs)\n",
    "    app_widgets = Widgets(settings=settings)\n",
    "    game = Game(app_widgets=app_widgets, settings=settings)\n",
    "    utils = Utils(game=game, app_widgets=app_widgets, settings=settings)\n",
    "    display(utils.app_widgets.ui_app)\n",
    "    \n"
   ]
  }
 ],
 "metadata": {
  "kernelspec": {
   "display_name": "Python 3 (ipykernel)",
   "language": "python",
   "name": "python3"
  },
  "language_info": {
   "codemirror_mode": {
    "name": "ipython",
    "version": 3
   },
   "file_extension": ".py",
   "mimetype": "text/x-python",
   "name": "python",
   "nbconvert_exporter": "python",
   "pygments_lexer": "ipython3",
   "version": "3.9.7"
  }
 },
 "nbformat": 4,
 "nbformat_minor": 5
}
