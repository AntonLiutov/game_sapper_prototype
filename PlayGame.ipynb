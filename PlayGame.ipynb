{
 "cells": [
  {
   "cell_type": "code",
   "execution_count": 1,
   "id": "2452a5eb",
   "metadata": {
    "scrolled": false
   },
   "outputs": [
    {
     "data": {
      "application/vnd.jupyter.widget-view+json": {
       "model_id": "0303ab5a60dd4497a39b8754da886f1f",
       "version_major": 2,
       "version_minor": 0
      },
      "text/plain": [
       "VBox(children=(HBox(children=(Dropdown(layout=Layout(margin='10px'), options=('Easy', 'Medium', 'Hard', 'Custo…"
      ]
     },
     "metadata": {},
     "output_type": "display_data"
    }
   ],
   "source": [
    "import json\n",
    "from application.settings import Settings\n",
    "from application.simulate_data import Game\n",
    "from ui.widgets import Widgets\n",
    "from ui.widget_utils import Utils\n",
    "\n",
    "if __name__ == '__main__':\n",
    "    with open('config.json', 'r+') as f:\n",
    "        configs = json.load(f)\n",
    "\n",
    "    settings = Settings(configs=configs)\n",
    "    app_widgets = Widgets(settings=settings)\n",
    "    game = Game(app_widgets=app_widgets, settings=settings)\n",
    "    utils = Utils(app_widgets=app_widgets, settings=settings)\n",
    "    display(utils.app_widgets.ui_app)\n",
    "    \n"
   ]
  }
 ],
 "metadata": {
  "kernelspec": {
   "display_name": "Python 3 (ipykernel)",
   "language": "python",
   "name": "python3"
  },
  "language_info": {
   "codemirror_mode": {
    "name": "ipython",
    "version": 3
   },
   "file_extension": ".py",
   "mimetype": "text/x-python",
   "name": "python",
   "nbconvert_exporter": "python",
   "pygments_lexer": "ipython3",
   "version": "3.9.7"
  }
 },
 "nbformat": 4,
 "nbformat_minor": 5
}
