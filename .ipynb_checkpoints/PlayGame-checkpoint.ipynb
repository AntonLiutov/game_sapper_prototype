{
 "cells": [
  {
   "cell_type": "code",
   "execution_count": 2,
   "id": "b9b9a5a1",
   "metadata": {
    "scrolled": false
   },
   "outputs": [
    {
     "data": {
      "application/vnd.jupyter.widget-view+json": {
       "model_id": "c4110208b4f749d4bdbb0c0a3b5337c1",
       "version_major": 2,
       "version_minor": 0
      },
      "text/plain": [
       "VBox(children=(HBox(children=(Dropdown(layout=Layout(margin='10px'), options=('Easy', 'Medium', 'Hard', 'Custo…"
      ]
     },
     "metadata": {},
     "output_type": "display_data"
    }
   ],
   "source": [
    "import json\n",
    "from application.settings import Settings\n",
    "from ui.widgets import Widgets\n",
    "from ui.widget_utils import Utils\n",
    "%matplotlib inline\n",
    "\n",
    "if __name__ == '__main__':\n",
    "    with open('config.json', 'r+') as f:\n",
    "        configs = json.load(f)\n",
    "\n",
    "    settings = Settings(configs=configs)\n",
    "    app_widgets = Widgets(settings=settings)\n",
    "    utils = Utils(app_widgets=app_widgets, settings=settings)\n",
    "    display(utils.app_widgets.ui_app)\n",
    "    \n"
   ]
  }
 ],
 "metadata": {
  "kernelspec": {
   "display_name": "Python 3 (ipykernel)",
   "language": "python",
   "name": "python3"
  },
  "language_info": {
   "codemirror_mode": {
    "name": "ipython",
    "version": 3
   },
   "file_extension": ".py",
   "mimetype": "text/x-python",
   "name": "python",
   "nbconvert_exporter": "python",
   "pygments_lexer": "ipython3",
   "version": "3.9.7"
  }
 },
 "nbformat": 4,
 "nbformat_minor": 5
}
